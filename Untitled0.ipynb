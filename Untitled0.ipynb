{
  "nbformat": 4,
  "nbformat_minor": 0,
  "metadata": {
    "colab": {
      "provenance": [],
      "gpuType": "T4",
      "authorship_tag": "ABX9TyNVM9CkKE7JPmJxq64+UR+G",
      "include_colab_link": true
    },
    "kernelspec": {
      "name": "python3",
      "display_name": "Python 3"
    },
    "language_info": {
      "name": "python"
    },
    "accelerator": "GPU"
  },
  "cells": [
    {
      "cell_type": "markdown",
      "metadata": {
        "id": "view-in-github",
        "colab_type": "text"
      },
      "source": [
        "<a href=\"https://colab.research.google.com/github/uhjaehwan/yolov8/blob/main/Untitled0.ipynb\" target=\"_parent\"><img src=\"https://colab.research.google.com/assets/colab-badge.svg\" alt=\"Open In Colab\"/></a>"
      ]
    },
    {
      "cell_type": "code",
      "execution_count": 1,
      "metadata": {
        "id": "sKxmSJ2Jra5A",
        "outputId": "1363541b-d8ef-4335-fc94-40dd3fd2ff50",
        "colab": {
          "base_uri": "https://localhost:8080/",
          "height": 384
        }
      },
      "outputs": [
        {
          "output_type": "error",
          "ename": "ModuleNotFoundError",
          "evalue": "No module named 'ultralytics'",
          "traceback": [
            "\u001b[0;31m---------------------------------------------------------------------------\u001b[0m",
            "\u001b[0;31mModuleNotFoundError\u001b[0m                       Traceback (most recent call last)",
            "\u001b[0;32m<ipython-input-1-c3635eb80105>\u001b[0m in \u001b[0;36m<cell line: 0>\u001b[0;34m()\u001b[0m\n\u001b[1;32m      1\u001b[0m \u001b[0;32mimport\u001b[0m \u001b[0mos\u001b[0m\u001b[0;34m\u001b[0m\u001b[0;34m\u001b[0m\u001b[0m\n\u001b[1;32m      2\u001b[0m \u001b[0;32mimport\u001b[0m \u001b[0mcv2\u001b[0m\u001b[0;34m\u001b[0m\u001b[0;34m\u001b[0m\u001b[0m\n\u001b[0;32m----> 3\u001b[0;31m \u001b[0;32mfrom\u001b[0m \u001b[0multralytics\u001b[0m \u001b[0;32mimport\u001b[0m \u001b[0mYOLO\u001b[0m\u001b[0;34m\u001b[0m\u001b[0;34m\u001b[0m\u001b[0m\n\u001b[0m\u001b[1;32m      4\u001b[0m \u001b[0;32mfrom\u001b[0m \u001b[0mmoviepy\u001b[0m\u001b[0;34m.\u001b[0m\u001b[0meditor\u001b[0m \u001b[0;32mimport\u001b[0m \u001b[0mVideoFileClip\u001b[0m\u001b[0;34m\u001b[0m\u001b[0;34m\u001b[0m\u001b[0m\n\u001b[1;32m      5\u001b[0m \u001b[0;32mimport\u001b[0m \u001b[0myt_dlp\u001b[0m\u001b[0;34m\u001b[0m\u001b[0;34m\u001b[0m\u001b[0m\n",
            "\u001b[0;31mModuleNotFoundError\u001b[0m: No module named 'ultralytics'",
            "",
            "\u001b[0;31m---------------------------------------------------------------------------\u001b[0;32m\nNOTE: If your import is failing due to a missing package, you can\nmanually install dependencies using either !pip or !apt.\n\nTo view examples of installing some common dependencies, click the\n\"Open Examples\" button below.\n\u001b[0;31m---------------------------------------------------------------------------\u001b[0m\n"
          ],
          "errorDetails": {
            "actions": [
              {
                "action": "open_url",
                "actionText": "Open Examples",
                "url": "/notebooks/snippets/importing_libraries.ipynb"
              }
            ]
          }
        }
      ],
      "source": [
        "import os\n",
        "import cv2\n",
        "from ultralytics import YOLO\n",
        "from moviepy.editor import VideoFileClip\n",
        "import yt_dlp\n",
        "\n",
        "# [1] 유튜브 영상 다운로드 후 1분까지 자르기\n",
        "def download_and_trim_youtube_video(url, output_path=\"trimmed_video.mp4\"):\n",
        "    ydl_opts = {\n",
        "        'format': 'bestvideo[ext=mp4]+bestaudio[ext=m4a]/best',\n",
        "        'merge_output_format': 'mp4',\n",
        "        'outtmpl': 'full_video.mp4',\n",
        "        'noplaylist': True,\n",
        "    }\n",
        "    with yt_dlp.YoutubeDL(ydl_opts) as ydl:\n",
        "        ydl.download([url])\n",
        "\n",
        "    clip = VideoFileClip(\"full_video.mp4\").subclip(0, 60)\n",
        "    clip.write_videofile(output_path, codec=\"libx264\")\n",
        "    print(f\"[✔] 1분짜리 영상 저장됨: {output_path}\")\n",
        "\n",
        "# [2] YOLOv11 모델 로드\n",
        "def load_yolo11_model():\n",
        "    return YOLO(\"yolo11s.pt\")  # 필요한 경우 다른 가중치 사용 가능\n",
        "\n",
        "# [3] 사람 탐지 후 이미지 저장\n",
        "def detect_people_and_save(video_path, model, output_dir=\"people\"):\n",
        "    os.makedirs(output_dir, exist_ok=True)\n",
        "    cap = cv2.VideoCapture(video_path)\n",
        "    frame_idx = 0\n",
        "    save_idx = 0\n",
        "\n",
        "    while True:\n",
        "        ret, frame = cap.read()\n",
        "        if not ret:\n",
        "            break\n",
        "        frame_idx += 1\n",
        "\n",
        "        # YOLOv11로 프레임 탐지\n",
        "        results = model(frame)[0]\n",
        "\n",
        "        for box in results.boxes:\n",
        "            cls = int(box.cls[0])\n",
        "            if model.names[cls] == 'person':\n",
        "                x1, y1, x2, y2 = map(int, box.xyxy[0])\n",
        "                person_crop = frame[y1:y2, x1:x2]\n",
        "                save_path = os.path.join(output_dir, f\"person_{save_idx:04d}.jpg\")\n",
        "                cv2.imwrite(save_path, person_crop)\n",
        "                save_idx += 1\n",
        "\n",
        "    cap.release()\n",
        "    print(f\"[✔] 총 {save_idx}명의 사람 이미지가 저장되었습니다.\")\n",
        "\n",
        "# === 실행 ===\n",
        "video_url = \"https://www.youtube.com/watch?v=wxa9M5pol28\"\n",
        "download_and_trim_youtube_video(video_url)\n",
        "model = load_yolo11_model()\n",
        "detect_people_and_save(\"trimmed_video.mp4\", model)\n"
      ]
    }
  ]
}